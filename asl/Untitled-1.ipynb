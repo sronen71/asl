{
 "cells": [
  {
   "cell_type": "code",
   "execution_count": 6,
   "metadata": {},
   "outputs": [
    {
     "name": "stdout",
     "output_type": "stream",
     "text": [
      "TensorShape([4])\n",
      "[400, 400, 400, 400]\n",
      "TensorShape([4])\n",
      "TensorShape([4, 50])\n",
      "TensorShape([4, 400, 61])\n"
     ]
    }
   ],
   "source": [
    "import tensorflow as tf\n",
    "tf.random.set_seed(50)\n",
    "batch_size = 4\n",
    "num_labels = 61\n",
    "max_label_length = 50\n",
    "num_frames = 400\n",
    "labels = tf.random.uniform([batch_size, max_label_length],\n",
    "                           minval=1, maxval=num_labels, dtype=tf.int64)\n",
    "logits = tf.random.uniform([batch_size,num_frames, num_labels])\n",
    "label_length = tf.random.uniform([batch_size], minval=2,\n",
    "                                 maxval=max_label_length, dtype=tf.int64)\n",
    "label_mask = tf.sequence_mask(label_length, maxlen=max_label_length,\n",
    "                              dtype=label_length.dtype)\n",
    "labels *= label_mask\n",
    "logit_length = [num_frames] * batch_size\n",
    "tf.print(label_length.shape)\n",
    "tf.print(logit_length)\n",
    "with tf.GradientTape() as t:\n",
    "  #t.watch(logits)\n",
    "  ref_loss = tf.nn.ctc_loss(\n",
    "      labels=labels,\n",
    "      logits=logits,\n",
    "      label_length=label_length,\n",
    "      logit_length=logit_length,\n",
    "      logits_time_major=False,\n",
    "      blank_index=5)\n",
    "  tf.print(ref_loss.shape)\n",
    "  \n",
    "  tf.print(labels.shape)\n",
    "  tf.print(logits.shape)\n",
    "ref_grad = t.gradient(ref_loss, logits)\n",
    "\n"
   ]
  }
 ],
 "metadata": {
  "kernelspec": {
   "display_name": ".venv",
   "language": "python",
   "name": "python3"
  },
  "language_info": {
   "codemirror_mode": {
    "name": "ipython",
    "version": 3
   },
   "file_extension": ".py",
   "mimetype": "text/x-python",
   "name": "python",
   "nbconvert_exporter": "python",
   "pygments_lexer": "ipython3",
   "version": "3.10.6"
  },
  "orig_nbformat": 4
 },
 "nbformat": 4,
 "nbformat_minor": 2
}
