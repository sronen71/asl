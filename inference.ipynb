{
 "cells": [
  {
   "cell_type": "code",
   "execution_count": 1,
   "metadata": {},
   "outputs": [
    {
     "name": "stderr",
     "output_type": "stream",
     "text": [
      "2023-07-13 01:43:09.677735: I tensorflow/core/platform/cpu_feature_guard.cc:182] This TensorFlow binary is optimized to use available CPU instructions in performance-critical operations.\n",
      "To enable the following instructions: AVX2 FMA, in other operations, rebuild TensorFlow with the appropriate compiler flags.\n",
      "2023-07-13 01:43:10.239285: W tensorflow/compiler/tf2tensorrt/utils/py_utils.cc:38] TF-TRT Warning: Could not find TensorRT\n"
     ]
    },
    {
     "name": "stdout",
     "output_type": "stream",
     "text": [
      "Num GPUs Available:  1\n",
      "REPLICAS: 1\n"
     ]
    },
    {
     "name": "stderr",
     "output_type": "stream",
     "text": [
      "2023-07-13 01:43:10.989894: I tensorflow/compiler/xla/stream_executor/cuda/cuda_gpu_executor.cc:995] successful NUMA node read from SysFS had negative value (-1), but there must be at least one NUMA node, so returning NUMA node zero. See more at https://github.com/torvalds/linux/blob/v6.0/Documentation/ABI/testing/sysfs-bus-pci#L344-L355\n",
      "2023-07-13 01:43:11.007327: I tensorflow/compiler/xla/stream_executor/cuda/cuda_gpu_executor.cc:995] successful NUMA node read from SysFS had negative value (-1), but there must be at least one NUMA node, so returning NUMA node zero. See more at https://github.com/torvalds/linux/blob/v6.0/Documentation/ABI/testing/sysfs-bus-pci#L344-L355\n",
      "2023-07-13 01:43:11.007459: I tensorflow/compiler/xla/stream_executor/cuda/cuda_gpu_executor.cc:995] successful NUMA node read from SysFS had negative value (-1), but there must be at least one NUMA node, so returning NUMA node zero. See more at https://github.com/torvalds/linux/blob/v6.0/Documentation/ABI/testing/sysfs-bus-pci#L344-L355\n",
      "2023-07-13 01:43:11.008822: I tensorflow/compiler/xla/stream_executor/cuda/cuda_gpu_executor.cc:995] successful NUMA node read from SysFS had negative value (-1), but there must be at least one NUMA node, so returning NUMA node zero. See more at https://github.com/torvalds/linux/blob/v6.0/Documentation/ABI/testing/sysfs-bus-pci#L344-L355\n",
      "2023-07-13 01:43:11.008929: I tensorflow/compiler/xla/stream_executor/cuda/cuda_gpu_executor.cc:995] successful NUMA node read from SysFS had negative value (-1), but there must be at least one NUMA node, so returning NUMA node zero. See more at https://github.com/torvalds/linux/blob/v6.0/Documentation/ABI/testing/sysfs-bus-pci#L344-L355\n",
      "2023-07-13 01:43:11.009020: I tensorflow/compiler/xla/stream_executor/cuda/cuda_gpu_executor.cc:995] successful NUMA node read from SysFS had negative value (-1), but there must be at least one NUMA node, so returning NUMA node zero. See more at https://github.com/torvalds/linux/blob/v6.0/Documentation/ABI/testing/sysfs-bus-pci#L344-L355\n",
      "2023-07-13 01:43:11.063219: I tensorflow/compiler/xla/stream_executor/cuda/cuda_gpu_executor.cc:995] successful NUMA node read from SysFS had negative value (-1), but there must be at least one NUMA node, so returning NUMA node zero. See more at https://github.com/torvalds/linux/blob/v6.0/Documentation/ABI/testing/sysfs-bus-pci#L344-L355\n",
      "2023-07-13 01:43:11.063343: I tensorflow/compiler/xla/stream_executor/cuda/cuda_gpu_executor.cc:995] successful NUMA node read from SysFS had negative value (-1), but there must be at least one NUMA node, so returning NUMA node zero. See more at https://github.com/torvalds/linux/blob/v6.0/Documentation/ABI/testing/sysfs-bus-pci#L344-L355\n",
      "2023-07-13 01:43:11.063436: I tensorflow/compiler/xla/stream_executor/cuda/cuda_gpu_executor.cc:995] successful NUMA node read from SysFS had negative value (-1), but there must be at least one NUMA node, so returning NUMA node zero. See more at https://github.com/torvalds/linux/blob/v6.0/Documentation/ABI/testing/sysfs-bus-pci#L344-L355\n",
      "2023-07-13 01:43:11.063507: I tensorflow/core/common_runtime/gpu/gpu_device.cc:1639] Created device /job:localhost/replica:0/task:0/device:GPU:0 with 6085 MB memory:  -> device: 0, name: NVIDIA GeForce RTX 3060 Ti, pci bus id: 0000:01:00.0, compute capability: 8.6\n"
     ]
    }
   ],
   "source": [
    "\n",
    "from asl.training import preprocess\n",
    "from asl.utils import selected_columns,decode_batch_predictions\n",
    "from asl.constants import Constants\n",
    "from asl.model import get_model\n",
    "from asl.config import CFG\n",
    "\n",
    "import tensorflow as tf\n",
    "import json\n",
    "import pandas as pd\n",
    "import numpy as np\n"
   ]
  },
  {
   "cell_type": "code",
   "execution_count": 2,
   "metadata": {},
   "outputs": [
    {
     "name": "stdout",
     "output_type": "stream",
     "text": [
      "model with weights logs/model-384-seed42-exp0-best.h5\n"
     ]
    }
   ],
   "source": [
    "config=CFG\n",
    "model = get_model(\n",
    "    max_len=config.max_len,\n",
    "    output_dim=config.output_dim,\n",
    "    dim=config.dim,\n",
    "    input_pad=Constants.INPUT_PAD,\n",
    ")\n",
    "experiment_id=0\n",
    "saved_based_model = f\"{config.log_path}/{config.comment}-exp{experiment_id}-best.h5\"\n",
    "model.load_weights(saved_based_model)\n",
    "print(f\"model with weights {saved_based_model}\")"
   ]
  },
  {
   "cell_type": "code",
   "execution_count": 3,
   "metadata": {},
   "outputs": [],
   "source": [
    "class InferModel(tf.Module):\n",
    "    def __init__(self, model,preprocessing,config=CFG):\n",
    "        super().__init__()\n",
    "\n",
    "        self.prep_inputs = preprocessing\n",
    "        self.model = model\n",
    "        self.max_len=config.max_len\n",
    "\n",
    "    @tf.function(\n",
    "        input_signature=[tf.TensorSpec(shape=(None,Constants.NUM_INPUT_FEATURES), dtype=tf.float32, name=\"inputs\")]\n",
    "    )\n",
    "    def __call__(self, inputs):\n",
    "        \"\"\"\n",
    "        Applies the feature generation model and main model to the input tensor.\n",
    "\n",
    "        Args:\n",
    "            inputs: Input tensor with shape (T, F).\n",
    "\n",
    "        Returns:\n",
    "            A dictionary with a single key 'outputs' and corresponding output tensor.\n",
    "        \"\"\"\n",
    "        x = self.prep_inputs(tf.cast(inputs, dtype=tf.float32),max_len=self.max_len)\n",
    "        #outputs=x\n",
    "        outputs = self.model(x[None,...])[0]\n",
    "        return {\"outputs\": outputs}\n",
    "\n",
    "\n",
    "\n",
    "\n"
   ]
  },
  {
   "cell_type": "code",
   "execution_count": 4,
   "metadata": {},
   "outputs": [
    {
     "name": "stdout",
     "output_type": "stream",
     "text": [
      "input shape: (123, 244), dtype: float32\n"
     ]
    },
    {
     "name": "stderr",
     "output_type": "stream",
     "text": [
      "2023-07-13 01:43:24.727246: I tensorflow/compiler/xla/stream_executor/cuda/cuda_blas.cc:606] TensorFloat-32 will be used for the matrix multiplication. This will only be logged once.\n",
      "2023-07-13 01:43:24.769981: I tensorflow/compiler/xla/stream_executor/cuda/cuda_dnn.cc:432] Loaded cuDNN version 8801\n",
      "2023-07-13 01:43:24.862627: I tensorflow/tsl/platform/default/subprocess.cc:304] Start cannot spawn child process: No such file or directory\n"
     ]
    },
    {
     "name": "stdout",
     "output_type": "stream",
     "text": [
      "3 creek house\n"
     ]
    }
   ],
   "source": [
    "# Sanity Check\n",
    "\n",
    "infer_keras_model=InferModel(model,preprocess)\n",
    "\n",
    "main_dir = '/kaggle/input/asl-fingerspelling/'\n",
    "path = f'{main_dir}train_landmarks/5414471.parquet'\n",
    "cols=selected_columns(path)\n",
    "df = pd.read_parquet(path, engine = 'auto', columns = cols)\n",
    "seq_id=1816796431\n",
    "seq=df.loc[seq_id]\n",
    "data = seq[cols].to_numpy()\n",
    "print(f'input shape: {data.shape}, dtype: {data.dtype}')\n",
    "output = infer_keras_model(data)[\"outputs\"]\n",
    "prediction_str = decode_batch_predictions(output[None,...])[0]\n",
    "print(prediction_str)"
   ]
  },
  {
   "cell_type": "code",
   "execution_count": 7,
   "metadata": {},
   "outputs": [
    {
     "name": "stdout",
     "output_type": "stream",
     "text": [
      "INFO:tensorflow:Assets written to: /kaggle/working/infer_model/assets\n"
     ]
    },
    {
     "name": "stderr",
     "output_type": "stream",
     "text": [
      "INFO:tensorflow:Assets written to: /kaggle/working/infer_model/assets\n",
      "2023-07-13 01:49:45.705921: W tensorflow/compiler/mlir/lite/python/tf_tfl_flatbuffer_helpers.cc:364] Ignored output_format.\n",
      "2023-07-13 01:49:45.705944: W tensorflow/compiler/mlir/lite/python/tf_tfl_flatbuffer_helpers.cc:367] Ignored drop_control_dependency.\n",
      "2023-07-13 01:49:45.706128: I tensorflow/cc/saved_model/reader.cc:45] Reading SavedModel from: /kaggle/working/infer_model\n",
      "2023-07-13 01:49:45.737539: I tensorflow/cc/saved_model/reader.cc:91] Reading meta graph with tags { serve }\n",
      "2023-07-13 01:49:45.737564: I tensorflow/cc/saved_model/reader.cc:132] Reading SavedModel debug info (if present) from: /kaggle/working/infer_model\n",
      "2023-07-13 01:49:45.826679: I tensorflow/cc/saved_model/loader.cc:231] Restoring SavedModel bundle.\n",
      "2023-07-13 01:49:46.100374: I tensorflow/cc/saved_model/loader.cc:215] Running initialization op on SavedModel bundle at path: /kaggle/working/infer_model\n",
      "2023-07-13 01:49:46.278765: I tensorflow/cc/saved_model/loader.cc:314] SavedModel load for tags { serve }; Status: success: OK. Took 572638 microseconds.\n"
     ]
    },
    {
     "name": "stdout",
     "output_type": "stream",
     "text": [
      "\tzip warning: name not matched: /kaggle/working/inference_args.json\n",
      "updating: kaggle/working/model.tflite (deflated 18%)\n"
     ]
    }
   ],
   "source": [
    "SAVED_MODEL_PATH=\"/kaggle/working/infer_model\"\n",
    "tf.saved_model.save(infer_keras_model,SAVED_MODEL_PATH)\n",
    "keras_model_converter = tf.lite.TFLiteConverter.from_saved_model(SAVED_MODEL_PATH)\n",
    "keras_model_converter.optimizations = [tf.lite.Optimize.DEFAULT]\n",
    "#keras_model_converter.target_spec.supported_types = [tf.float16]\n",
    "#converter.target_spec.supported_ops = [tf.lite.OpsSet.TFLITE_BUILTINS, tf.lite.OpsSet.SELECT_TF_OPS]\n",
    "#converter.allow_custom_ops=True\n",
    "tflite_model = keras_model_converter.convert()\n",
    "TFLITE_FILE_PATH=\"/kaggle/working/model.tflite\"\n",
    "with open(TFLITE_FILE_PATH, \"wb\") as f:\n",
    "    f.write(tflite_model)\n",
    "\n",
    "!zip submission.zip \"/kaggle/working/model.tflite\" \"/kaggle/working/inference_args.json\""
   ]
  },
  {
   "cell_type": "code",
   "execution_count": 16,
   "metadata": {},
   "outputs": [
    {
     "name": "stdout",
     "output_type": "stream",
     "text": [
      "<tensorflow.lite.python.interpreter.SignatureRunner object at 0x7f0ccbc92d70>\n"
     ]
    },
    {
     "ename": "TypeError",
     "evalue": "SignatureRunner.__call__() takes 1 positional argument but 2 were given",
     "output_type": "error",
     "traceback": [
      "\u001b[0;31m---------------------------------------------------------------------------\u001b[0m",
      "\u001b[0;31mTypeError\u001b[0m                                 Traceback (most recent call last)",
      "Cell \u001b[0;32mIn[16], line 9\u001b[0m\n\u001b[1;32m      7\u001b[0m \u001b[39mprint\u001b[39m(my_signature)\n\u001b[1;32m      8\u001b[0m \u001b[39m# my_signature is callable with input as arguments.\u001b[39;00m\n\u001b[0;32m----> 9\u001b[0m output \u001b[39m=\u001b[39m my_signature(data)\n\u001b[1;32m     10\u001b[0m \u001b[39m# 'output' is dictionary with all outputs from the inference.\u001b[39;00m\n\u001b[1;32m     11\u001b[0m \u001b[39m# In this case we have single output 'result'.\u001b[39;00m\n\u001b[1;32m     12\u001b[0m \u001b[39mprint\u001b[39m(output[\u001b[39m'\u001b[39m\u001b[39moutputs\u001b[39m\u001b[39m'\u001b[39m])\n",
      "\u001b[0;31mTypeError\u001b[0m: SignatureRunner.__call__() takes 1 positional argument but 2 were given"
     ]
    }
   ],
   "source": [
    "\n",
    "# Load the TFLite model in TFLite Interpreter\n",
    "interpreter = tf.lite.Interpreter(TFLITE_FILE_PATH)\n",
    "# There is only 1 signature defined in the model,\n",
    "# so it will return it by default.\n",
    "# If there are multiple signatures then we can pass the name.\n",
    "my_signature = interpreter.get_signature_runner()\n",
    "# my_signature is callable with input as arguments.\n",
    "output = my_signature(data)\n",
    "# 'output' is dictionary with all outputs from the inference.\n",
    "# In this case we have single output 'result'.\n",
    "print(output['outputs'])\n"
   ]
  }
 ],
 "metadata": {
  "kernelspec": {
   "display_name": ".venv",
   "language": "python",
   "name": "python3"
  },
  "language_info": {
   "codemirror_mode": {
    "name": "ipython",
    "version": 3
   },
   "file_extension": ".py",
   "mimetype": "text/x-python",
   "name": "python",
   "nbconvert_exporter": "python",
   "pygments_lexer": "ipython3",
   "version": "3.10.6"
  },
  "orig_nbformat": 4
 },
 "nbformat": 4,
 "nbformat_minor": 2
}
