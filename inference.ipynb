{
 "cells": [
  {
   "cell_type": "code",
   "execution_count": 1,
   "metadata": {},
   "outputs": [
    {
     "name": "stderr",
     "output_type": "stream",
     "text": [
      "2023-07-13 12:15:51.124019: I tensorflow/core/platform/cpu_feature_guard.cc:182] This TensorFlow binary is optimized to use available CPU instructions in performance-critical operations.\n",
      "To enable the following instructions: AVX2 FMA, in other operations, rebuild TensorFlow with the appropriate compiler flags.\n",
      "2023-07-13 12:15:51.667400: W tensorflow/compiler/tf2tensorrt/utils/py_utils.cc:38] TF-TRT Warning: Could not find TensorRT\n"
     ]
    },
    {
     "name": "stdout",
     "output_type": "stream",
     "text": [
      "Num GPUs Available:  1\n",
      "REPLICAS: 1\n"
     ]
    },
    {
     "name": "stderr",
     "output_type": "stream",
     "text": [
      "2023-07-13 12:15:52.431604: I tensorflow/compiler/xla/stream_executor/cuda/cuda_gpu_executor.cc:995] successful NUMA node read from SysFS had negative value (-1), but there must be at least one NUMA node, so returning NUMA node zero. See more at https://github.com/torvalds/linux/blob/v6.0/Documentation/ABI/testing/sysfs-bus-pci#L344-L355\n",
      "2023-07-13 12:15:52.450550: I tensorflow/compiler/xla/stream_executor/cuda/cuda_gpu_executor.cc:995] successful NUMA node read from SysFS had negative value (-1), but there must be at least one NUMA node, so returning NUMA node zero. See more at https://github.com/torvalds/linux/blob/v6.0/Documentation/ABI/testing/sysfs-bus-pci#L344-L355\n",
      "2023-07-13 12:15:52.450681: I tensorflow/compiler/xla/stream_executor/cuda/cuda_gpu_executor.cc:995] successful NUMA node read from SysFS had negative value (-1), but there must be at least one NUMA node, so returning NUMA node zero. See more at https://github.com/torvalds/linux/blob/v6.0/Documentation/ABI/testing/sysfs-bus-pci#L344-L355\n",
      "2023-07-13 12:15:52.452148: I tensorflow/compiler/xla/stream_executor/cuda/cuda_gpu_executor.cc:995] successful NUMA node read from SysFS had negative value (-1), but there must be at least one NUMA node, so returning NUMA node zero. See more at https://github.com/torvalds/linux/blob/v6.0/Documentation/ABI/testing/sysfs-bus-pci#L344-L355\n",
      "2023-07-13 12:15:52.452262: I tensorflow/compiler/xla/stream_executor/cuda/cuda_gpu_executor.cc:995] successful NUMA node read from SysFS had negative value (-1), but there must be at least one NUMA node, so returning NUMA node zero. See more at https://github.com/torvalds/linux/blob/v6.0/Documentation/ABI/testing/sysfs-bus-pci#L344-L355\n",
      "2023-07-13 12:15:52.452368: I tensorflow/compiler/xla/stream_executor/cuda/cuda_gpu_executor.cc:995] successful NUMA node read from SysFS had negative value (-1), but there must be at least one NUMA node, so returning NUMA node zero. See more at https://github.com/torvalds/linux/blob/v6.0/Documentation/ABI/testing/sysfs-bus-pci#L344-L355\n",
      "2023-07-13 12:15:52.499122: I tensorflow/compiler/xla/stream_executor/cuda/cuda_gpu_executor.cc:995] successful NUMA node read from SysFS had negative value (-1), but there must be at least one NUMA node, so returning NUMA node zero. See more at https://github.com/torvalds/linux/blob/v6.0/Documentation/ABI/testing/sysfs-bus-pci#L344-L355\n",
      "2023-07-13 12:15:52.499260: I tensorflow/compiler/xla/stream_executor/cuda/cuda_gpu_executor.cc:995] successful NUMA node read from SysFS had negative value (-1), but there must be at least one NUMA node, so returning NUMA node zero. See more at https://github.com/torvalds/linux/blob/v6.0/Documentation/ABI/testing/sysfs-bus-pci#L344-L355\n",
      "2023-07-13 12:15:52.499356: I tensorflow/compiler/xla/stream_executor/cuda/cuda_gpu_executor.cc:995] successful NUMA node read from SysFS had negative value (-1), but there must be at least one NUMA node, so returning NUMA node zero. See more at https://github.com/torvalds/linux/blob/v6.0/Documentation/ABI/testing/sysfs-bus-pci#L344-L355\n",
      "2023-07-13 12:15:52.499429: I tensorflow/core/common_runtime/gpu/gpu_device.cc:1639] Created device /job:localhost/replica:0/task:0/device:GPU:0 with 5858 MB memory:  -> device: 0, name: NVIDIA GeForce RTX 3060 Ti, pci bus id: 0000:01:00.0, compute capability: 8.6\n"
     ]
    }
   ],
   "source": [
    "\n",
    "from asl.training import preprocess\n",
    "from asl.utils import selected_columns,decode_batch_predictions,decode_phrase\n",
    "from asl.constants import Constants\n",
    "from asl.model import get_model\n",
    "from asl.config import CFG\n",
    "\n",
    "import tensorflow as tf\n",
    "import json\n",
    "import pandas as pd\n",
    "import numpy as np\n"
   ]
  },
  {
   "cell_type": "code",
   "execution_count": 2,
   "metadata": {},
   "outputs": [
    {
     "name": "stdout",
     "output_type": "stream",
     "text": [
      "model with weights logs/model-384-seed42-exp0-best.h5\n"
     ]
    }
   ],
   "source": [
    "config=CFG\n",
    "model = get_model(\n",
    "    max_len=config.max_len,\n",
    "    output_dim=config.output_dim,\n",
    "    dim=config.dim,\n",
    "    input_pad=Constants.INPUT_PAD,\n",
    ")\n",
    "experiment_id=0\n",
    "saved_based_model = f\"{config.log_path}/{config.comment}-exp{experiment_id}-best.h5\"\n",
    "model.load_weights(saved_based_model)\n",
    "print(f\"model with weights {saved_based_model}\")"
   ]
  },
  {
   "cell_type": "code",
   "execution_count": 3,
   "metadata": {},
   "outputs": [],
   "source": [
    "class InferModel(tf.Module):\n",
    "    def __init__(self, model,config=CFG):\n",
    "        super().__init__()\n",
    "\n",
    "        self.model = model\n",
    "        self.max_len=config.max_len\n",
    "\n",
    "    @tf.function(\n",
    "        input_signature=[tf.TensorSpec(shape=(None,Constants.NUM_INPUT_FEATURES), dtype=tf.float32, name=\"inputs\")]\n",
    "    )\n",
    "    def __call__(self, inputs):\n",
    "        \"\"\"\n",
    "        Applies the feature generation model and main model to the input tensor.\n",
    "\n",
    "        Args:\n",
    "            inputs: Input tensor with shape (T, F).\n",
    "\n",
    "        Returns:\n",
    "            A dictionary with a single key 'outputs' and corresponding output tensor.\n",
    "        \"\"\"\n",
    "        x = preprocess(tf.cast(inputs, dtype=tf.float32),max_len=self.max_len)\n",
    "        ctc = self.model(x[None,...])[0]\n",
    "        decode=decode_phrase(ctc)\n",
    "        outputs=tf.one_hot(decode,depth=60)\n",
    "        return {\"outputs\": outputs}\n",
    "\n",
    "\n",
    "\n",
    "\n"
   ]
  },
  {
   "cell_type": "code",
   "execution_count": 4,
   "metadata": {},
   "outputs": [
    {
     "name": "stdout",
     "output_type": "stream",
     "text": [
      "input shape: (123, 244), dtype: float32\n"
     ]
    },
    {
     "name": "stderr",
     "output_type": "stream",
     "text": [
      "2023-07-13 12:15:57.009991: I tensorflow/compiler/xla/stream_executor/cuda/cuda_blas.cc:606] TensorFloat-32 will be used for the matrix multiplication. This will only be logged once.\n",
      "2023-07-13 12:15:57.053852: I tensorflow/compiler/xla/stream_executor/cuda/cuda_dnn.cc:432] Loaded cuDNN version 8801\n",
      "2023-07-13 12:15:57.161771: I tensorflow/tsl/platform/default/subprocess.cc:304] Start cannot spawn child process: No such file or directory\n"
     ]
    },
    {
     "name": "stdout",
     "output_type": "stream",
     "text": [
      "3 creek house\n"
     ]
    }
   ],
   "source": [
    "# Sanity Check\n",
    "with open (\"/kaggle/input/asl-fingerspelling/character_to_prediction_index.json\", \"r\") as f:\n",
    "    character_map = json.load(f)\n",
    "rev_character_map = {j:i for i,j in character_map.items()}\n",
    "\n",
    "infer_keras_model=InferModel(model)\n",
    "\n",
    "main_dir = '/kaggle/input/asl-fingerspelling/'\n",
    "path = f'{main_dir}train_landmarks/5414471.parquet'\n",
    "cols=selected_columns(path)\n",
    "df = pd.read_parquet(path, engine = 'auto', columns = cols)\n",
    "seq_id=1816796431\n",
    "seq=df.loc[seq_id]\n",
    "data = seq[cols].to_numpy()\n",
    "print(f'input shape: {data.shape}, dtype: {data.dtype}')\n",
    "output = infer_keras_model(data)[\"outputs\"]\n",
    "prediction_str = \"\".join([rev_character_map.get(s, \"\") for s in np.argmax(output, axis=1)])\n",
    "\n",
    "#prediction_str = decode_batch_predictions(output[None,...])[0]\n",
    "print(prediction_str)"
   ]
  },
  {
   "cell_type": "code",
   "execution_count": 9,
   "metadata": {},
   "outputs": [
    {
     "name": "stdout",
     "output_type": "stream",
     "text": [
      "INFO:tensorflow:Assets written to: /kaggle/working/infer_model/assets\n"
     ]
    },
    {
     "name": "stderr",
     "output_type": "stream",
     "text": [
      "INFO:tensorflow:Assets written to: /kaggle/working/infer_model/assets\n",
      "2023-07-13 12:20:33.984557: W tensorflow/compiler/mlir/lite/python/tf_tfl_flatbuffer_helpers.cc:364] Ignored output_format.\n",
      "2023-07-13 12:20:33.984581: W tensorflow/compiler/mlir/lite/python/tf_tfl_flatbuffer_helpers.cc:367] Ignored drop_control_dependency.\n",
      "2023-07-13 12:20:33.984740: I tensorflow/cc/saved_model/reader.cc:45] Reading SavedModel from: /kaggle/working/infer_model\n",
      "2023-07-13 12:20:34.017102: I tensorflow/cc/saved_model/reader.cc:91] Reading meta graph with tags { serve }\n",
      "2023-07-13 12:20:34.017129: I tensorflow/cc/saved_model/reader.cc:132] Reading SavedModel debug info (if present) from: /kaggle/working/infer_model\n",
      "2023-07-13 12:20:34.104837: I tensorflow/cc/saved_model/loader.cc:231] Restoring SavedModel bundle.\n",
      "2023-07-13 12:20:34.376141: I tensorflow/cc/saved_model/loader.cc:215] Running initialization op on SavedModel bundle at path: /kaggle/working/infer_model\n",
      "2023-07-13 12:20:34.551185: I tensorflow/cc/saved_model/loader.cc:314] SavedModel load for tags { serve }; Status: success: OK. Took 566445 microseconds.\n"
     ]
    },
    {
     "name": "stdout",
     "output_type": "stream",
     "text": [
      "updating: kaggle/working/model.tflite (deflated 17%)\n",
      "  adding: kaggle/working/inference_args.json (deflated 83%)\n"
     ]
    }
   ],
   "source": [
    "SAVED_MODEL_PATH=\"/kaggle/working/infer_model\"\n",
    "tf.saved_model.save(infer_keras_model,SAVED_MODEL_PATH)\n",
    "keras_model_converter = tf.lite.TFLiteConverter.from_saved_model(SAVED_MODEL_PATH)\n",
    "keras_model_converter.optimizations = [tf.lite.Optimize.DEFAULT]\n",
    "#keras_model_converter.target_spec.supported_types = [tf.float16]\n",
    "#converter.target_spec.supported_ops = [tf.lite.OpsSet.TFLITE_BUILTINS, tf.lite.OpsSet.SELECT_TF_OPS]\n",
    "#converter.allow_custom_ops=True\n",
    "tflite_model = keras_model_converter.convert()\n",
    "TFLITE_FILE_PATH=\"/kaggle/working/model.tflite\"\n",
    "with open(TFLITE_FILE_PATH, \"wb\") as f:\n",
    "    f.write(tflite_model)\n",
    "\n",
    "with open('/kaggle/working/inference_args.json', 'w') as f:\n",
    "     json.dump({ 'selected_columns': cols }, f)\n",
    "\n",
    "#!zip submission.zip \"/kaggle/working/model.tflite\" \"/kaggle/working/inference_args.json\""
   ]
  },
  {
   "cell_type": "code",
   "execution_count": 7,
   "metadata": {},
   "outputs": [
    {
     "name": "stdout",
     "output_type": "stream",
     "text": [
      "['serving_default']\n",
      "3 creek house\n"
     ]
    }
   ],
   "source": [
    "\n",
    "interpreter = tf.lite.Interpreter(TFLITE_FILE_PATH)\n",
    "REQUIRED_SIGNATURE = \"serving_default\"\n",
    "REQUIRED_OUTPUT = \"outputs\"\n",
    "found_signatures = list(interpreter.get_signature_list().keys())\n",
    "if REQUIRED_SIGNATURE not in found_signatures:\n",
    "    print(\"Required input signature not found.\")\n",
    "\n",
    "prediction_fn = interpreter.get_signature_runner(\"serving_default\")\n",
    "output = prediction_fn(inputs=data)\n",
    "prediction_str = \"\".join([rev_character_map.get(s, \"\") for s in np.argmax(output[REQUIRED_OUTPUT], axis=1)])\n",
    "print(prediction_str)"
   ]
  }
 ],
 "metadata": {
  "kernelspec": {
   "display_name": ".venv",
   "language": "python",
   "name": "python3"
  },
  "language_info": {
   "codemirror_mode": {
    "name": "ipython",
    "version": 3
   },
   "file_extension": ".py",
   "mimetype": "text/x-python",
   "name": "python",
   "nbconvert_exporter": "python",
   "pygments_lexer": "ipython3",
   "version": "3.10.6"
  },
  "orig_nbformat": 4
 },
 "nbformat": 4,
 "nbformat_minor": 2
}
